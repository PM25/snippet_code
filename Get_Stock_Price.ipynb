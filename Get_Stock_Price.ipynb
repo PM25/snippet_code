{
 "cells": [
  {
   "cell_type": "code",
   "execution_count": 1,
   "metadata": {},
   "outputs": [],
   "source": [
    "import requests"
   ]
  },
  {
   "cell_type": "code",
   "execution_count": 2,
   "metadata": {},
   "outputs": [],
   "source": [
    "url = \"https://query1.finance.yahoo.com/v7/finance/download/2002.TW?period1=0&period2=1549258857&interval=1d&events=history&crumb=hP2rOschxO0\"\n",
    "data = requests.post(url)"
   ]
  },
  {
   "cell_type": "code",
   "execution_count": 3,
   "metadata": {},
   "outputs": [],
   "source": [
    "with open(\"data.csv\", 'w') as ofile:\n",
    "    ofile.writelines(data.text)"
   ]
  },
  {
   "cell_type": "code",
   "execution_count": 4,
   "metadata": {},
   "outputs": [],
   "source": [
    "import pandas as pd"
   ]
  },
  {
   "cell_type": "code",
   "execution_count": 5,
   "metadata": {},
   "outputs": [
    {
     "data": {
      "text/html": [
       "<div>\n",
       "<style scoped>\n",
       "    .dataframe tbody tr th:only-of-type {\n",
       "        vertical-align: middle;\n",
       "    }\n",
       "\n",
       "    .dataframe tbody tr th {\n",
       "        vertical-align: top;\n",
       "    }\n",
       "\n",
       "    .dataframe thead th {\n",
       "        text-align: right;\n",
       "    }\n",
       "</style>\n",
       "<table border=\"1\" class=\"dataframe\">\n",
       "  <thead>\n",
       "    <tr style=\"text-align: right;\">\n",
       "      <th></th>\n",
       "      <th>Open</th>\n",
       "      <th>High</th>\n",
       "      <th>Low</th>\n",
       "      <th>Close</th>\n",
       "      <th>Adj Close</th>\n",
       "      <th>Volume</th>\n",
       "    </tr>\n",
       "    <tr>\n",
       "      <th>Date</th>\n",
       "      <th></th>\n",
       "      <th></th>\n",
       "      <th></th>\n",
       "      <th></th>\n",
       "      <th></th>\n",
       "      <th></th>\n",
       "    </tr>\n",
       "  </thead>\n",
       "  <tbody>\n",
       "    <tr>\n",
       "      <th>2000-01-04</th>\n",
       "      <td>12.4420</td>\n",
       "      <td>13.0747</td>\n",
       "      <td>12.2838</td>\n",
       "      <td>13.0747</td>\n",
       "      <td>2.899392</td>\n",
       "      <td>1.519749e+11</td>\n",
       "    </tr>\n",
       "    <tr>\n",
       "      <th>2000-01-05</th>\n",
       "      <td>12.6530</td>\n",
       "      <td>12.8638</td>\n",
       "      <td>12.4420</td>\n",
       "      <td>12.6530</td>\n",
       "      <td>2.805877</td>\n",
       "      <td>6.472645e+10</td>\n",
       "    </tr>\n",
       "    <tr>\n",
       "      <th>2000-01-06</th>\n",
       "      <td>12.9165</td>\n",
       "      <td>13.1801</td>\n",
       "      <td>12.9165</td>\n",
       "      <td>12.9165</td>\n",
       "      <td>2.864310</td>\n",
       "      <td>1.593245e+11</td>\n",
       "    </tr>\n",
       "    <tr>\n",
       "      <th>2000-01-07</th>\n",
       "      <td>13.1801</td>\n",
       "      <td>13.2856</td>\n",
       "      <td>12.9692</td>\n",
       "      <td>13.0220</td>\n",
       "      <td>2.887706</td>\n",
       "      <td>1.232696e+11</td>\n",
       "    </tr>\n",
       "    <tr>\n",
       "      <th>2000-01-10</th>\n",
       "      <td>13.7073</td>\n",
       "      <td>13.7073</td>\n",
       "      <td>13.4965</td>\n",
       "      <td>13.6019</td>\n",
       "      <td>3.016301</td>\n",
       "      <td>1.471971e+11</td>\n",
       "    </tr>\n",
       "  </tbody>\n",
       "</table>\n",
       "</div>"
      ],
      "text/plain": [
       "               Open     High      Low    Close  Adj Close        Volume\n",
       "Date                                                                   \n",
       "2000-01-04  12.4420  13.0747  12.2838  13.0747   2.899392  1.519749e+11\n",
       "2000-01-05  12.6530  12.8638  12.4420  12.6530   2.805877  6.472645e+10\n",
       "2000-01-06  12.9165  13.1801  12.9165  12.9165   2.864310  1.593245e+11\n",
       "2000-01-07  13.1801  13.2856  12.9692  13.0220   2.887706  1.232696e+11\n",
       "2000-01-10  13.7073  13.7073  13.4965  13.6019   3.016301  1.471971e+11"
      ]
     },
     "execution_count": 5,
     "metadata": {},
     "output_type": "execute_result"
    }
   ],
   "source": [
    "df = pd.read_csv(\"data.csv\", index_col=\"Date\", parse_dates=['Date'])\n",
    "df.head()"
   ]
  },
  {
   "cell_type": "code",
   "execution_count": 6,
   "metadata": {},
   "outputs": [
    {
     "data": {
      "text/plain": [
       "<matplotlib.axes._subplots.AxesSubplot at 0x16d0c149b70>"
      ]
     },
     "execution_count": 6,
     "metadata": {},
     "output_type": "execute_result"
    },
    {
     "data": {
      "image/png": "[encoded data removed]",
      "text/plain": [
       "<matplotlib.figure.Figure at 0x16d7f96ab70>"
      ]
     },
     "metadata": {
      "needs_background": "light"
     },
     "output_type": "display_data"
    }
   ],
   "source": [
    "%matplotlib inline\n",
    "df[\"Close\"].plot()"
   ]
  },
  {
   "cell_type": "code",
   "execution_count": null,
   "metadata": {},
   "outputs": [],
   "source": []
  }
 ],
 "metadata": {
  "kernelspec": {
   "display_name": "Python 3",
   "language": "python",
   "name": "python3"
  },
  "language_info": {
   "codemirror_mode": {
    "name": "ipython",
    "version": 3
   },
   "file_extension": ".py",
   "mimetype": "text/x-python",
   "name": "python",
   "nbconvert_exporter": "python",
   "pygments_lexer": "ipython3",
   "version": "3.6.8"
  }
 },
 "nbformat": 4,
 "nbformat_minor": 2
}
