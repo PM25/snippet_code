{
 "cells": [
  {
   "cell_type": "code",
   "execution_count": 1,
   "metadata": {},
   "outputs": [
    {
     "name": "stdout",
     "output_type": "stream",
     "text": [
      "Ask the magic 8 ball a question: (press enter to quit) Will I get high score?\n",
      "Ask again later\n",
      "Ask the magic 8 ball a question: (press enter to quit) Will I get high score?\n",
      "You may rely on it\n",
      "Ask the magic 8 ball a question: (press enter to quit) \n"
     ]
    }
   ],
   "source": [
    "import random\n",
    "\n",
    "while True:\n",
    "    question = input(\"Ask the magic 8 ball a question: (press enter to quit) \")\n",
    "    \n",
    "    if(question == \"\"): \n",
    "        break\n",
    "    \n",
    "    \n",
    "    ans = random.randint(1, 8)\n",
    "    \n",
    "    if(ans == 1):\n",
    "        print(\"It is certain\")\n",
    "    elif(ans == 2):\n",
    "        print(\"Outlook good\")\n",
    "    elif(ans == 3):\n",
    "        print(\"You may rely on it\")\n",
    "    elif(ans == 4):\n",
    "        print(\"Ask again later\")\n",
    "    elif(ans == 5):\n",
    "        print(\"Concentrate and ask again\")\n",
    "    elif(ans == 6):\n",
    "        print(\"Reply hazy, try again\")\n",
    "    elif(ans == 7):\n",
    "        print(\"My reply is no\")\n",
    "    elif(ans == 8):\n",
    "        print(\"My sources say no\")"
   ]
  },
  {
   "cell_type": "code",
   "execution_count": null,
   "metadata": {},
   "outputs": [],
   "source": []
  }
 ],
 "metadata": {
  "kernelspec": {
   "display_name": "Python 3",
   "language": "python",
   "name": "python3"
  },
  "language_info": {
   "codemirror_mode": {
    "name": "ipython",
    "version": 3
   },
   "file_extension": ".py",
   "mimetype": "text/x-python",
   "name": "python",
   "nbconvert_exporter": "python",
   "pygments_lexer": "ipython3",
   "version": "3.6.8"
  }
 },
 "nbformat": 4,
 "nbformat_minor": 2
}
