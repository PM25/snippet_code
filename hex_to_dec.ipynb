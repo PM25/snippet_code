{
 "cells": [
  {
   "cell_type": "code",
   "execution_count": 14,
   "metadata": {},
   "outputs": [],
   "source": [
    "def hex_to_dec(hex_num):\n",
    "    dec = 0\n",
    "    base = 1\n",
    "    \n",
    "    for digit in hex_num[::-1]:\n",
    "        if(not digit.isdigit()):\n",
    "            digit = ord(digit) - ord('a') + 10\n",
    "        dec += int(digit)\n",
    "        base *= 16\n",
    "            \n",
    "    return dec"
   ]
  },
  {
   "cell_type": "code",
   "execution_count": 15,
   "metadata": {},
   "outputs": [
    {
     "name": "stdout",
     "output_type": "stream",
     "text": [
      "Hexadecimal: 0 -> Decimal: 0\n",
      "Hexadecimal: 1 -> Decimal: 1\n",
      "Hexadecimal: 2 -> Decimal: 2\n",
      "Hexadecimal: 3 -> Decimal: 3\n",
      "Hexadecimal: 4 -> Decimal: 4\n",
      "Hexadecimal: 5 -> Decimal: 5\n",
      "Hexadecimal: 6 -> Decimal: 6\n",
      "Hexadecimal: 7 -> Decimal: 7\n",
      "Hexadecimal: 8 -> Decimal: 8\n",
      "Hexadecimal: 9 -> Decimal: 9\n",
      "Hexadecimal: a -> Decimal: 10\n",
      "Hexadecimal: b -> Decimal: 11\n",
      "Hexadecimal: c -> Decimal: 12\n",
      "Hexadecimal: d -> Decimal: 13\n",
      "Hexadecimal: e -> Decimal: 14\n",
      "Hexadecimal: f -> Decimal: 15\n",
      "Hexadecimal: 10 -> Decimal: 1\n",
      "Hexadecimal: 11 -> Decimal: 2\n",
      "Hexadecimal: 12 -> Decimal: 3\n",
      "Hexadecimal: 13 -> Decimal: 4\n",
      "Hexadecimal: 14 -> Decimal: 5\n",
      "Hexadecimal: 15 -> Decimal: 6\n",
      "Hexadecimal: 16 -> Decimal: 7\n",
      "Hexadecimal: 17 -> Decimal: 8\n",
      "Hexadecimal: 18 -> Decimal: 9\n",
      "Hexadecimal: 19 -> Decimal: 10\n",
      "Hexadecimal: 1a -> Decimal: 11\n",
      "Hexadecimal: 1b -> Decimal: 12\n",
      "Hexadecimal: 1c -> Decimal: 13\n",
      "Hexadecimal: 1d -> Decimal: 14\n",
      "Hexadecimal: 1e -> Decimal: 15\n",
      "Hexadecimal: 1f -> Decimal: 16\n"
     ]
    }
   ],
   "source": [
    "for i in range(32):\n",
    "    hex_num = hex(i)[2:]\n",
    "    print(f\"Hexadecimal: {hex_num} -> Decimal: {hex_to_dec(hex_num)}\")"
   ]
  },
  {
   "cell_type": "code",
   "execution_count": null,
   "metadata": {},
   "outputs": [],
   "source": []
  }
 ],
 "metadata": {
  "kernelspec": {
   "display_name": "Python 3",
   "language": "python",
   "name": "python3"
  },
  "language_info": {
   "codemirror_mode": {
    "name": "ipython",
    "version": 3
   },
   "file_extension": ".py",
   "mimetype": "text/x-python",
   "name": "python",
   "nbconvert_exporter": "python",
   "pygments_lexer": "ipython3",
   "version": "3.6.8"
  }
 },
 "nbformat": 4,
 "nbformat_minor": 2
}
