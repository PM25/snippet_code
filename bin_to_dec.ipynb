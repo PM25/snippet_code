{
 "cells": [
  {
   "cell_type": "code",
   "execution_count": 27,
   "metadata": {},
   "outputs": [],
   "source": [
    "def bin_to_dec(bin_num):\n",
    "    dec = 0\n",
    "    base = 1\n",
    "    for digit in bin_num[::-1]:\n",
    "        if(digit == '1'):\n",
    "        dec += \n",
    "    return dec"
   ]
  },
  {
   "cell_type": "code",
   "execution_count": 28,
   "metadata": {},
   "outputs": [
    {
     "name": "stdout",
     "output_type": "stream",
     "text": [
      "0\n",
      "Binary: 0 -> Decimal: 0\n",
      "1\n",
      "Binary: 1 -> Decimal: 0\n",
      "0\n",
      "1\n",
      "Binary: 10 -> Decimal: 0\n",
      "1\n",
      "1\n",
      "Binary: 11 -> Decimal: 0\n",
      "0\n",
      "0\n",
      "1\n",
      "Binary: 100 -> Decimal: 0\n",
      "1\n",
      "0\n",
      "1\n",
      "Binary: 101 -> Decimal: 0\n",
      "0\n",
      "1\n",
      "1\n",
      "Binary: 110 -> Decimal: 0\n",
      "1\n",
      "1\n",
      "1\n",
      "Binary: 111 -> Decimal: 0\n",
      "0\n",
      "0\n",
      "0\n",
      "1\n",
      "Binary: 1000 -> Decimal: 0\n",
      "1\n",
      "0\n",
      "0\n",
      "1\n",
      "Binary: 1001 -> Decimal: 0\n"
     ]
    }
   ],
   "source": [
    "for i in range(10):\n",
    "    bin_num = bin(i)[2:]\n",
    "    print(f\"Binary: {bin_num} -> Decimal: {bin_to_dec(bin_num)}\")"
   ]
  },
  {
   "cell_type": "code",
   "execution_count": null,
   "metadata": {},
   "outputs": [],
   "source": []
  }
 ],
 "metadata": {
  "kernelspec": {
   "display_name": "Python 3",
   "language": "python",
   "name": "python3"
  },
  "language_info": {
   "codemirror_mode": {
    "name": "ipython",
    "version": 3
   },
   "file_extension": ".py",
   "mimetype": "text/x-python",
   "name": "python",
   "nbconvert_exporter": "python",
   "pygments_lexer": "ipython3",
   "version": "3.6.8"
  }
 },
 "nbformat": 4,
 "nbformat_minor": 2
}
