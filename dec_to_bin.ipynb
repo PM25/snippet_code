{
 "cells": [
  {
   "cell_type": "code",
   "execution_count": 1,
   "metadata": {},
   "outputs": [],
   "source": [
    "def dec_to_bin(dec):\n",
    "    if(dec == 0): return 0\n",
    "    \n",
    "    out = ''\n",
    "    while(dec):\n",
    "        out = str(dec & 1) + out\n",
    "        dec >>= 1\n",
    "    \n",
    "    return out"
   ]
  },
  {
   "cell_type": "code",
   "execution_count": 2,
   "metadata": {},
   "outputs": [
    {
     "name": "stdout",
     "output_type": "stream",
     "text": [
      "Decimal: 0 -> Binary: 0\n",
      "Decimal: 1 -> Binary: 1\n",
      "Decimal: 2 -> Binary: 10\n",
      "Decimal: 3 -> Binary: 11\n",
      "Decimal: 4 -> Binary: 100\n",
      "Decimal: 5 -> Binary: 101\n",
      "Decimal: 6 -> Binary: 110\n",
      "Decimal: 7 -> Binary: 111\n",
      "Decimal: 8 -> Binary: 1000\n",
      "Decimal: 9 -> Binary: 1001\n"
     ]
    }
   ],
   "source": [
    "for i in range(10):\n",
    "    print(f\"Decimal: {i} -> Binary: {dec_to_bin(i)}\")"
   ]
  },
  {
   "cell_type": "code",
   "execution_count": null,
   "metadata": {},
   "outputs": [],
   "source": []
  }
 ],
 "metadata": {
  "kernelspec": {
   "display_name": "Python 3",
   "language": "python",
   "name": "python3"
  },
  "language_info": {
   "codemirror_mode": {
    "name": "ipython",
    "version": 3
   },
   "file_extension": ".py",
   "mimetype": "text/x-python",
   "name": "python",
   "nbconvert_exporter": "python",
   "pygments_lexer": "ipython3",
   "version": "3.6.8"
  }
 },
 "nbformat": 4,
 "nbformat_minor": 2
}
