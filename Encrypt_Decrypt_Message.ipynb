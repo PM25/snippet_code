{
 "cells": [
  {
   "cell_type": "code",
   "execution_count": 1,
   "metadata": {},
   "outputs": [],
   "source": [
    "from Crypto.Cipher import AES\n",
    "\n",
    "class Crypt:\n",
    "    def __init__(self, key):\n",
    "        while(len(key) < 16):\n",
    "            key += '\\0'\n",
    "        self.key = key.encode('utf-8')\n",
    "        self.mode = AES.MODE_CBC\n",
    "        self.IV = b'0000000000000000'\n",
    "\n",
    "    def encrypt(self, data):\n",
    "        while(len(data) % 16 != 0):\n",
    "            data += '\\0'\n",
    "        data.encode('utf-8')\n",
    "        cryptor = AES.new(self.key, self.mode, self.IV)\n",
    "        encrypted_data = cryptor.encrypt(data)\n",
    "        return encrypted_data\n",
    "\n",
    "    def decrypt(self, encrypted_data):\n",
    "        cryptor = AES.new(self.key, self.mode, self.IV)\n",
    "        original_data = cryptor.decrypt(encrypted_data).decode('utf-8')\n",
    "        return original_data"
   ]
  },
  {
   "cell_type": "code",
   "execution_count": 2,
   "metadata": {},
   "outputs": [
    {
     "name": "stdout",
     "output_type": "stream",
     "text": [
      "Message: This is a secret message.\n",
      "Encrypted Message: f66c04eab160b275dec2a2acf1eb41c2a5821deb95ec60cbf8373a885b413462\n"
     ]
    }
   ],
   "source": [
    "crypt = Crypt(\"keys\")\n",
    "original_msg = input(\"Message: \")\n",
    "encrypted_msg = crypt.encrypt(original_msg)\n",
    "print(f\"Encrypted Message: {encrypted_msg.hex()}\")"
   ]
  },
  {
   "cell_type": "code",
   "execution_count": 3,
   "metadata": {},
   "outputs": [
    {
     "name": "stdout",
     "output_type": "stream",
     "text": [
      "Encrypted Message: f66c04eab160b275dec2a2acf1eb41c2a5821deb95ec60cbf8373a885b413462\n",
      "Original Message: This is a secret message.\u0000\u0000\u0000\u0000\u0000\u0000\u0000\n"
     ]
    }
   ],
   "source": [
    "encrypted_msg = input(\"Encrypted Message: \")\n",
    "decrypted_msg = crypt.decrypt(bytes.fromhex(encrypted_msg))\n",
    "print(f\"Original Message: {decrypted_msg}\")"
   ]
  },
  {
   "cell_type": "code",
   "execution_count": null,
   "metadata": {},
   "outputs": [],
   "source": []
  }
 ],
 "metadata": {
  "kernelspec": {
   "display_name": "Python 3",
   "language": "python",
   "name": "python3"
  },
  "language_info": {
   "codemirror_mode": {
    "name": "ipython",
    "version": 3
   },
   "file_extension": ".py",
   "mimetype": "text/x-python",
   "name": "python",
   "nbconvert_exporter": "python",
   "pygments_lexer": "ipython3",
   "version": "3.6.8"
  }
 },
 "nbformat": 4,
 "nbformat_minor": 2
}
