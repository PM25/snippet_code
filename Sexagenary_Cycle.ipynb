{
 "nbformat": 4,
 "nbformat_minor": 2,
 "metadata": {
  "language_info": {
   "name": "python",
   "codemirror_mode": {
    "name": "ipython",
    "version": 3
   },
   "version": "3.6.8"
  },
  "orig_nbformat": 2,
  "file_extension": ".py",
  "mimetype": "text/x-python",
  "name": "python",
  "npconvert_exporter": "python",
  "pygments_lexer": "ipython3",
  "version": 3
 },
 "cells": [
  {
   "cell_type": "code",
   "execution_count": 1,
   "metadata": {},
   "outputs": [],
   "source": [
    "import numpy as np\n",
    "import pandas as pd"
   ]
  },
  {
   "cell_type": "code",
   "execution_count": 2,
   "metadata": {},
   "outputs": [
    {
     "name": "stdout",
     "output_type": "stream",
     "text": "西元年: 2000 -> 庚辰\n西元年: 2001 -> 辛巳\n西元年: 2002 -> 壬午\n西元年: 2003 -> 癸未\n西元年: 2004 -> 甲申\n西元年: 2005 -> 乙酉\n西元年: 2006 -> 丙戌\n西元年: 2007 -> 丁亥\n西元年: 2008 -> 戊子\n西元年: 2009 -> 己丑\n西元年: 2010 -> 庚寅\n西元年: 2011 -> 辛卯\n西元年: 2012 -> 壬辰\n西元年: 2013 -> 癸巳\n西元年: 2014 -> 甲午\n西元年: 2015 -> 乙未\n西元年: 2016 -> 丙申\n西元年: 2017 -> 丁酉\n西元年: 2018 -> 戊戌\n西元年: 2019 -> 己亥\n"
    }
   ],
   "source": [
    "heavenly_stems = ['甲', '乙', '丙', '丁', '戊', '己', '庚', '辛', '壬', '癸']\n",
    "earthly_branches = ['子', '丑', '寅', '卯', '辰', '巳', '午', '未', '申', '酉', '戌', '亥']\n",
    "\n",
    "for year in range(2000, 2020):\n",
    "    heavenly_stem = heavenly_stems[year % 10 - 4]\n",
    "    earthly_branch = earthly_branches[year % 12 - 4]\n",
    "    print(f\"西元年: {year} -> {heavenly_stem + earthly_branch}\")"
   ]
  },
  {
   "cell_type": "code",
   "execution_count": null,
   "metadata": {},
   "outputs": [],
   "source": []
  }
 ]
}