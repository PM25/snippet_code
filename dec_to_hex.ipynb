{
 "cells": [
  {
   "cell_type": "code",
   "execution_count": 1,
   "metadata": {},
   "outputs": [],
   "source": [
    "def dec_to_hex(dec):\n",
    "    if(dec == 0): return 0\n",
    "    \n",
    "    hex_num = ''\n",
    "    while(dec):\n",
    "        hex_digit = dec % 16\n",
    "        if(hex_digit >= 10):\n",
    "            hex_digit = chr(hex_digit - 10 + ord('a'))\n",
    "        hex_num = str(hex_digit) + hex_num\n",
    "        dec //= 16\n",
    "        \n",
    "    return hex_num"
   ]
  },
  {
   "cell_type": "code",
   "execution_count": 2,
   "metadata": {},
   "outputs": [
    {
     "name": "stdout",
     "output_type": "stream",
     "text": [
      "Decimal: 0 -> Hexadecimal: 0\n",
      "Decimal: 1 -> Hexadecimal: 1\n",
      "Decimal: 2 -> Hexadecimal: 2\n",
      "Decimal: 3 -> Hexadecimal: 3\n",
      "Decimal: 4 -> Hexadecimal: 4\n",
      "Decimal: 5 -> Hexadecimal: 5\n",
      "Decimal: 6 -> Hexadecimal: 6\n",
      "Decimal: 7 -> Hexadecimal: 7\n",
      "Decimal: 8 -> Hexadecimal: 8\n",
      "Decimal: 9 -> Hexadecimal: 9\n",
      "Decimal: 10 -> Hexadecimal: a\n",
      "Decimal: 11 -> Hexadecimal: b\n",
      "Decimal: 12 -> Hexadecimal: c\n",
      "Decimal: 13 -> Hexadecimal: d\n",
      "Decimal: 14 -> Hexadecimal: e\n",
      "Decimal: 15 -> Hexadecimal: f\n",
      "Decimal: 16 -> Hexadecimal: 10\n",
      "Decimal: 17 -> Hexadecimal: 11\n",
      "Decimal: 18 -> Hexadecimal: 12\n",
      "Decimal: 19 -> Hexadecimal: 13\n",
      "Decimal: 20 -> Hexadecimal: 14\n",
      "Decimal: 21 -> Hexadecimal: 15\n",
      "Decimal: 22 -> Hexadecimal: 16\n",
      "Decimal: 23 -> Hexadecimal: 17\n",
      "Decimal: 24 -> Hexadecimal: 18\n",
      "Decimal: 25 -> Hexadecimal: 19\n",
      "Decimal: 26 -> Hexadecimal: 1a\n",
      "Decimal: 27 -> Hexadecimal: 1b\n",
      "Decimal: 28 -> Hexadecimal: 1c\n",
      "Decimal: 29 -> Hexadecimal: 1d\n",
      "Decimal: 30 -> Hexadecimal: 1e\n",
      "Decimal: 31 -> Hexadecimal: 1f\n"
     ]
    }
   ],
   "source": [
    "for i in range(0, 32):\n",
    "    print(f\"Decimal: {i} -> Hexadecimal: {dec_to_hex(i)}\")"
   ]
  },
  {
   "cell_type": "code",
   "execution_count": null,
   "metadata": {},
   "outputs": [],
   "source": []
  }
 ],
 "metadata": {
  "kernelspec": {
   "display_name": "Python 3",
   "language": "python",
   "name": "python3"
  },
  "language_info": {
   "codemirror_mode": {
    "name": "ipython",
    "version": 3
   },
   "file_extension": ".py",
   "mimetype": "text/x-python",
   "name": "python",
   "nbconvert_exporter": "python",
   "pygments_lexer": "ipython3",
   "version": "3.6.8"
  }
 },
 "nbformat": 4,
 "nbformat_minor": 2
}
